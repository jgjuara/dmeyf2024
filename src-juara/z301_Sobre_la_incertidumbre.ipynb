{
  "cells": [
    {
      "cell_type": "markdown",
      "metadata": {
        "id": "HNoCqM1I5-le"
      },
      "source": [
        "# Eligiendo modelos con incertidumbre\n",
        "\n",
        "> All models are wrong, but some are useful.\n",
        "\n",
        "George Box\n",
        "\n",
        "> If you torture the data long enough, it will confess.\n",
        "\n",
        "Ronald Coase\n",
        "\n",
        "A esta altura de la maetria, el alumno ya debe saber lo importante que es no sub-ajustar, ni sobre-ajustar un modelo. Puede repasar los conceptos visualmente en el siguiente link http://www.r2d3.us/visual-intro-to-machine-learning-part-2/\n",
        "\n",
        "Para lograr esto, necesitamos \"construir\" el mejor modelo posible. Sin embargo, esto nos plantea dos preguntas clave:\n",
        "* ¿qué significa construir un modelo?\n",
        "* Y, en segundo lugar, si tenemos dos modelos, ¿cómo determinamos cuál es el mejor?\n",
        "\n",
        "Empecemos realizando una comparación entre el modelo por defecto  de **árboles de decisión** (no controla el crecimiento) y uno levemente parametrizado.\n",
        "\n",
        "Levantemos el entorno e instalemos los paquetes que nos probablemente no dispongamos. Se usarán a lo largo de la clase."
      ]
    },
    {
      "cell_type": "code",
      "execution_count": 1,
      "metadata": {
        "id": "oTlmka0Z7CA5"
      },
      "outputs": [
        {
          "name": "stdout",
          "output_type": "stream",
          "text": [
            "Collecting optuna\n",
            "  Downloading optuna-3.6.1-py3-none-any.whl.metadata (17 kB)\n",
            "Collecting alembic>=1.5.0 (from optuna)\n",
            "  Downloading alembic-1.13.2-py3-none-any.whl.metadata (7.4 kB)\n",
            "Collecting colorlog (from optuna)\n",
            "  Downloading colorlog-6.8.2-py3-none-any.whl.metadata (10 kB)\n",
            "Requirement already satisfied: numpy in c:\\users\\jgjua\\appdata\\local\\programs\\python\\python312\\lib\\site-packages (from optuna) (1.26.3)\n",
            "Requirement already satisfied: packaging>=20.0 in c:\\users\\jgjua\\appdata\\roaming\\python\\python312\\site-packages (from optuna) (23.2)\n",
            "Requirement already satisfied: sqlalchemy>=1.3.0 in c:\\users\\jgjua\\appdata\\local\\programs\\python\\python312\\lib\\site-packages (from optuna) (1.3.9)\n",
            "Requirement already satisfied: tqdm in c:\\users\\jgjua\\appdata\\local\\programs\\python\\python312\\lib\\site-packages (from optuna) (4.66.4)\n",
            "Requirement already satisfied: PyYAML in c:\\users\\jgjua\\appdata\\local\\programs\\python\\python312\\lib\\site-packages (from optuna) (6.0.1)\n",
            "Collecting Mako (from alembic>=1.5.0->optuna)\n",
            "  Downloading Mako-1.3.5-py3-none-any.whl.metadata (2.9 kB)\n",
            "Requirement already satisfied: typing-extensions>=4 in c:\\users\\jgjua\\appdata\\local\\programs\\python\\python312\\lib\\site-packages (from alembic>=1.5.0->optuna) (4.12.2)\n",
            "Requirement already satisfied: colorama in c:\\users\\jgjua\\appdata\\roaming\\python\\python312\\site-packages (from colorlog->optuna) (0.4.6)\n",
            "Requirement already satisfied: MarkupSafe>=0.9.2 in c:\\users\\jgjua\\appdata\\local\\programs\\python\\python312\\lib\\site-packages (from Mako->alembic>=1.5.0->optuna) (2.1.4)\n",
            "Downloading optuna-3.6.1-py3-none-any.whl (380 kB)\n",
            "   ---------------------------------------- 0.0/380.1 kB ? eta -:--:--\n",
            "   --- ------------------------------------ 30.7/380.1 kB ? eta -:--:--\n",
            "   ----------------------- ---------------- 225.3/380.1 kB 4.6 MB/s eta 0:00:01\n",
            "   ---------------------------------------- 380.1/380.1 kB 4.7 MB/s eta 0:00:00\n",
            "Downloading alembic-1.13.2-py3-none-any.whl (232 kB)\n",
            "   ---------------------------------------- 0.0/233.0 kB ? eta -:--:--\n",
            "   --------------------------------------- 233.0/233.0 kB 14.8 MB/s eta 0:00:00\n",
            "Downloading colorlog-6.8.2-py3-none-any.whl (11 kB)\n",
            "Downloading Mako-1.3.5-py3-none-any.whl (78 kB)\n",
            "   ---------------------------------------- 0.0/78.6 kB ? eta -:--:--\n",
            "   ---------------------------------------- 78.6/78.6 kB ? eta 0:00:00\n",
            "Installing collected packages: Mako, colorlog, alembic, optuna\n",
            "Successfully installed Mako-1.3.5 alembic-1.13.2 colorlog-6.8.2 optuna-3.6.1\n",
            "Note: you may need to restart the kernel to use updated packages.\n"
          ]
        },
        {
          "name": "stderr",
          "output_type": "stream",
          "text": [
            "\n",
            "[notice] A new release of pip is available: 24.0 -> 24.2\n",
            "[notice] To update, run: python.exe -m pip install --upgrade pip\n"
          ]
        }
      ],
      "source": [
        "%pip install optuna"
      ]
    },
    {
      "cell_type": "code",
      "execution_count": 1,
      "metadata": {
        "id": "x0IutZ5v4Pn5"
      },
      "outputs": [
        {
          "name": "stderr",
          "output_type": "stream",
          "text": [
            "C:\\Users\\jgjua\\AppData\\Local\\Temp\\ipykernel_46636\\3291287683.py:1: DeprecationWarning: \n",
            "Pyarrow will become a required dependency of pandas in the next major release of pandas (pandas 3.0),\n",
            "(to allow more performant data types, such as the Arrow string type, and better interoperability with other libraries)\n",
            "but was not found to be installed on your system.\n",
            "If this would cause problems for you,\n",
            "please provide us feedback at https://github.com/pandas-dev/pandas/issues/54466\n",
            "        \n",
            "  import pandas as pd\n"
          ]
        }
      ],
      "source": [
        "import pandas as pd\n",
        "import numpy as np\n",
        "import seaborn as sns\n",
        "import matplotlib.pyplot as plt\n",
        "\n",
        "from sklearn.tree import DecisionTreeClassifier, plot_tree,  _tree\n",
        "from sklearn.model_selection import train_test_split\n",
        "from sklearn.model_selection import ShuffleSplit, StratifiedShuffleSplit\n",
        "\n",
        "from joblib import Parallel, delayed\n",
        "\n",
        "from time import time\n",
        "\n",
        "import optuna\n",
        "from optuna.visualization import plot_param_importances, plot_contour,  plot_slice, plot_optimization_history"
      ]
    },
    {
      "cell_type": "markdown",
      "metadata": {
        "id": "DgrO4dvN0jCI"
      },
      "source": [
        "Notará a continuación que trabajaremos como mes de entrenamiento **Febrero** y reservaremos **Abril** solo para pruebas"
      ]
    },
    {
      "cell_type": "code",
      "execution_count": 13,
      "metadata": {
        "id": "IbyPo4Dk4Mdh"
      },
      "outputs": [
        {
          "name": "stderr",
          "output_type": "stream",
          "text": [
            "C:\\Users\\jgjua\\AppData\\Local\\Temp\\ipykernel_46636\\3375329601.py:13: DtypeWarning: Columns (154) have mixed types. Specify dtype option on import or set low_memory=False.\n",
            "  data = pd.read_csv(dataset_path + dataset_file)\n"
          ]
        }
      ],
      "source": [
        "dataset_path = '../datasets/'\n",
        "dataset_file = 'competencia_01.csv'\n",
        "\n",
        "ganancia_acierto = 273000\n",
        "costo_estimulo = 7000\n",
        "\n",
        "mes_train = 202102\n",
        "mes_test = 202104\n",
        "\n",
        "# agregue sus semillas\n",
        "semillas = [17,19,23,29,31] #[549937, 792991, 886969, 208961, 780587]\n",
        "\n",
        "data = pd.read_csv(dataset_path + dataset_file)"
      ]
    },
    {
      "cell_type": "code",
      "execution_count": 6,
      "metadata": {
        "id": "UnYMoA1l4jJ3"
      },
      "outputs": [],
      "source": [
        "X = data[data['foto_mes'] == mes_train]\n",
        "y = X['clase_ternaria']\n",
        "X = X.drop(columns=['clase_ternaria'])"
      ]
    },
    {
      "cell_type": "markdown",
      "metadata": {
        "id": "65j320lg1eth"
      },
      "source": [
        "Y necesitamos una función que nos ayude a calcular la ganancia"
      ]
    },
    {
      "cell_type": "code",
      "execution_count": 7,
      "metadata": {},
      "outputs": [
        {
          "data": {
            "text/plain": [
              "162026    CONTINUA\n",
              "162027    CONTINUA\n",
              "162028    CONTINUA\n",
              "162029    CONTINUA\n",
              "162030    CONTINUA\n",
              "            ...   \n",
              "324667    CONTINUA\n",
              "324668    CONTINUA\n",
              "324669    CONTINUA\n",
              "324670    CONTINUA\n",
              "324671    CONTINUA\n",
              "Name: clase_ternaria, Length: 162646, dtype: object"
            ]
          },
          "execution_count": 7,
          "metadata": {},
          "output_type": "execute_result"
        }
      ],
      "source": [
        "y"
      ]
    },
    {
      "cell_type": "code",
      "execution_count": 71,
      "metadata": {
        "id": "TWHFFm431krP"
      },
      "outputs": [],
      "source": [
        "def ganancia(model, X, y, prop=1, threshold=0.025):\n",
        "\n",
        "  class_index = np.where(model.classes_ == \"BAJA+2\")[0][0]\n",
        "  y_hat = model.predict_proba(X)\n",
        "\n",
        "  @np.vectorize\n",
        "  def ganancia_row(predicted, actual, threshold):\n",
        "    if  predicted >= threshold:\n",
        "      if actual == \"BAJA+2\":\n",
        "        return ganancia_acierto\n",
        "      else:\n",
        "        return -costo_estimulo\n",
        "    else:\n",
        "      return 0\n",
        "\n",
        "  # print(y_hat[:,class_index])\n",
        "  return ganancia_row(y_hat[:,class_index], y, threshold).sum() / prop\n"
      ]
    },
    {
      "cell_type": "markdown",
      "metadata": {
        "id": "xjQM00zh3FtS"
      },
      "source": [
        "Mira a continuación el siguiente código.\n",
        "\n",
        "* ¿Cuál cree que es el mejor modelo?\n",
        "* ¿Cuáles son los problemas que ve?"
      ]
    },
    {
      "cell_type": "code",
      "execution_count": 46,
      "metadata": {
        "id": "t_vb-tye2dw_"
      },
      "outputs": [
        {
          "data": {
            "text/html": [
              "<style>#sk-container-id-2 {\n",
              "  /* Definition of color scheme common for light and dark mode */\n",
              "  --sklearn-color-text: black;\n",
              "  --sklearn-color-line: gray;\n",
              "  /* Definition of color scheme for unfitted estimators */\n",
              "  --sklearn-color-unfitted-level-0: #fff5e6;\n",
              "  --sklearn-color-unfitted-level-1: #f6e4d2;\n",
              "  --sklearn-color-unfitted-level-2: #ffe0b3;\n",
              "  --sklearn-color-unfitted-level-3: chocolate;\n",
              "  /* Definition of color scheme for fitted estimators */\n",
              "  --sklearn-color-fitted-level-0: #f0f8ff;\n",
              "  --sklearn-color-fitted-level-1: #d4ebff;\n",
              "  --sklearn-color-fitted-level-2: #b3dbfd;\n",
              "  --sklearn-color-fitted-level-3: cornflowerblue;\n",
              "\n",
              "  /* Specific color for light theme */\n",
              "  --sklearn-color-text-on-default-background: var(--sg-text-color, var(--theme-code-foreground, var(--jp-content-font-color1, black)));\n",
              "  --sklearn-color-background: var(--sg-background-color, var(--theme-background, var(--jp-layout-color0, white)));\n",
              "  --sklearn-color-border-box: var(--sg-text-color, var(--theme-code-foreground, var(--jp-content-font-color1, black)));\n",
              "  --sklearn-color-icon: #696969;\n",
              "\n",
              "  @media (prefers-color-scheme: dark) {\n",
              "    /* Redefinition of color scheme for dark theme */\n",
              "    --sklearn-color-text-on-default-background: var(--sg-text-color, var(--theme-code-foreground, var(--jp-content-font-color1, white)));\n",
              "    --sklearn-color-background: var(--sg-background-color, var(--theme-background, var(--jp-layout-color0, #111)));\n",
              "    --sklearn-color-border-box: var(--sg-text-color, var(--theme-code-foreground, var(--jp-content-font-color1, white)));\n",
              "    --sklearn-color-icon: #878787;\n",
              "  }\n",
              "}\n",
              "\n",
              "#sk-container-id-2 {\n",
              "  color: var(--sklearn-color-text);\n",
              "}\n",
              "\n",
              "#sk-container-id-2 pre {\n",
              "  padding: 0;\n",
              "}\n",
              "\n",
              "#sk-container-id-2 input.sk-hidden--visually {\n",
              "  border: 0;\n",
              "  clip: rect(1px 1px 1px 1px);\n",
              "  clip: rect(1px, 1px, 1px, 1px);\n",
              "  height: 1px;\n",
              "  margin: -1px;\n",
              "  overflow: hidden;\n",
              "  padding: 0;\n",
              "  position: absolute;\n",
              "  width: 1px;\n",
              "}\n",
              "\n",
              "#sk-container-id-2 div.sk-dashed-wrapped {\n",
              "  border: 1px dashed var(--sklearn-color-line);\n",
              "  margin: 0 0.4em 0.5em 0.4em;\n",
              "  box-sizing: border-box;\n",
              "  padding-bottom: 0.4em;\n",
              "  background-color: var(--sklearn-color-background);\n",
              "}\n",
              "\n",
              "#sk-container-id-2 div.sk-container {\n",
              "  /* jupyter's `normalize.less` sets `[hidden] { display: none; }`\n",
              "     but bootstrap.min.css set `[hidden] { display: none !important; }`\n",
              "     so we also need the `!important` here to be able to override the\n",
              "     default hidden behavior on the sphinx rendered scikit-learn.org.\n",
              "     See: https://github.com/scikit-learn/scikit-learn/issues/21755 */\n",
              "  display: inline-block !important;\n",
              "  position: relative;\n",
              "}\n",
              "\n",
              "#sk-container-id-2 div.sk-text-repr-fallback {\n",
              "  display: none;\n",
              "}\n",
              "\n",
              "div.sk-parallel-item,\n",
              "div.sk-serial,\n",
              "div.sk-item {\n",
              "  /* draw centered vertical line to link estimators */\n",
              "  background-image: linear-gradient(var(--sklearn-color-text-on-default-background), var(--sklearn-color-text-on-default-background));\n",
              "  background-size: 2px 100%;\n",
              "  background-repeat: no-repeat;\n",
              "  background-position: center center;\n",
              "}\n",
              "\n",
              "/* Parallel-specific style estimator block */\n",
              "\n",
              "#sk-container-id-2 div.sk-parallel-item::after {\n",
              "  content: \"\";\n",
              "  width: 100%;\n",
              "  border-bottom: 2px solid var(--sklearn-color-text-on-default-background);\n",
              "  flex-grow: 1;\n",
              "}\n",
              "\n",
              "#sk-container-id-2 div.sk-parallel {\n",
              "  display: flex;\n",
              "  align-items: stretch;\n",
              "  justify-content: center;\n",
              "  background-color: var(--sklearn-color-background);\n",
              "  position: relative;\n",
              "}\n",
              "\n",
              "#sk-container-id-2 div.sk-parallel-item {\n",
              "  display: flex;\n",
              "  flex-direction: column;\n",
              "}\n",
              "\n",
              "#sk-container-id-2 div.sk-parallel-item:first-child::after {\n",
              "  align-self: flex-end;\n",
              "  width: 50%;\n",
              "}\n",
              "\n",
              "#sk-container-id-2 div.sk-parallel-item:last-child::after {\n",
              "  align-self: flex-start;\n",
              "  width: 50%;\n",
              "}\n",
              "\n",
              "#sk-container-id-2 div.sk-parallel-item:only-child::after {\n",
              "  width: 0;\n",
              "}\n",
              "\n",
              "/* Serial-specific style estimator block */\n",
              "\n",
              "#sk-container-id-2 div.sk-serial {\n",
              "  display: flex;\n",
              "  flex-direction: column;\n",
              "  align-items: center;\n",
              "  background-color: var(--sklearn-color-background);\n",
              "  padding-right: 1em;\n",
              "  padding-left: 1em;\n",
              "}\n",
              "\n",
              "\n",
              "/* Toggleable style: style used for estimator/Pipeline/ColumnTransformer box that is\n",
              "clickable and can be expanded/collapsed.\n",
              "- Pipeline and ColumnTransformer use this feature and define the default style\n",
              "- Estimators will overwrite some part of the style using the `sk-estimator` class\n",
              "*/\n",
              "\n",
              "/* Pipeline and ColumnTransformer style (default) */\n",
              "\n",
              "#sk-container-id-2 div.sk-toggleable {\n",
              "  /* Default theme specific background. It is overwritten whether we have a\n",
              "  specific estimator or a Pipeline/ColumnTransformer */\n",
              "  background-color: var(--sklearn-color-background);\n",
              "}\n",
              "\n",
              "/* Toggleable label */\n",
              "#sk-container-id-2 label.sk-toggleable__label {\n",
              "  cursor: pointer;\n",
              "  display: block;\n",
              "  width: 100%;\n",
              "  margin-bottom: 0;\n",
              "  padding: 0.5em;\n",
              "  box-sizing: border-box;\n",
              "  text-align: center;\n",
              "}\n",
              "\n",
              "#sk-container-id-2 label.sk-toggleable__label-arrow:before {\n",
              "  /* Arrow on the left of the label */\n",
              "  content: \"▸\";\n",
              "  float: left;\n",
              "  margin-right: 0.25em;\n",
              "  color: var(--sklearn-color-icon);\n",
              "}\n",
              "\n",
              "#sk-container-id-2 label.sk-toggleable__label-arrow:hover:before {\n",
              "  color: var(--sklearn-color-text);\n",
              "}\n",
              "\n",
              "/* Toggleable content - dropdown */\n",
              "\n",
              "#sk-container-id-2 div.sk-toggleable__content {\n",
              "  max-height: 0;\n",
              "  max-width: 0;\n",
              "  overflow: hidden;\n",
              "  text-align: left;\n",
              "  /* unfitted */\n",
              "  background-color: var(--sklearn-color-unfitted-level-0);\n",
              "}\n",
              "\n",
              "#sk-container-id-2 div.sk-toggleable__content.fitted {\n",
              "  /* fitted */\n",
              "  background-color: var(--sklearn-color-fitted-level-0);\n",
              "}\n",
              "\n",
              "#sk-container-id-2 div.sk-toggleable__content pre {\n",
              "  margin: 0.2em;\n",
              "  border-radius: 0.25em;\n",
              "  color: var(--sklearn-color-text);\n",
              "  /* unfitted */\n",
              "  background-color: var(--sklearn-color-unfitted-level-0);\n",
              "}\n",
              "\n",
              "#sk-container-id-2 div.sk-toggleable__content.fitted pre {\n",
              "  /* unfitted */\n",
              "  background-color: var(--sklearn-color-fitted-level-0);\n",
              "}\n",
              "\n",
              "#sk-container-id-2 input.sk-toggleable__control:checked~div.sk-toggleable__content {\n",
              "  /* Expand drop-down */\n",
              "  max-height: 200px;\n",
              "  max-width: 100%;\n",
              "  overflow: auto;\n",
              "}\n",
              "\n",
              "#sk-container-id-2 input.sk-toggleable__control:checked~label.sk-toggleable__label-arrow:before {\n",
              "  content: \"▾\";\n",
              "}\n",
              "\n",
              "/* Pipeline/ColumnTransformer-specific style */\n",
              "\n",
              "#sk-container-id-2 div.sk-label input.sk-toggleable__control:checked~label.sk-toggleable__label {\n",
              "  color: var(--sklearn-color-text);\n",
              "  background-color: var(--sklearn-color-unfitted-level-2);\n",
              "}\n",
              "\n",
              "#sk-container-id-2 div.sk-label.fitted input.sk-toggleable__control:checked~label.sk-toggleable__label {\n",
              "  background-color: var(--sklearn-color-fitted-level-2);\n",
              "}\n",
              "\n",
              "/* Estimator-specific style */\n",
              "\n",
              "/* Colorize estimator box */\n",
              "#sk-container-id-2 div.sk-estimator input.sk-toggleable__control:checked~label.sk-toggleable__label {\n",
              "  /* unfitted */\n",
              "  background-color: var(--sklearn-color-unfitted-level-2);\n",
              "}\n",
              "\n",
              "#sk-container-id-2 div.sk-estimator.fitted input.sk-toggleable__control:checked~label.sk-toggleable__label {\n",
              "  /* fitted */\n",
              "  background-color: var(--sklearn-color-fitted-level-2);\n",
              "}\n",
              "\n",
              "#sk-container-id-2 div.sk-label label.sk-toggleable__label,\n",
              "#sk-container-id-2 div.sk-label label {\n",
              "  /* The background is the default theme color */\n",
              "  color: var(--sklearn-color-text-on-default-background);\n",
              "}\n",
              "\n",
              "/* On hover, darken the color of the background */\n",
              "#sk-container-id-2 div.sk-label:hover label.sk-toggleable__label {\n",
              "  color: var(--sklearn-color-text);\n",
              "  background-color: var(--sklearn-color-unfitted-level-2);\n",
              "}\n",
              "\n",
              "/* Label box, darken color on hover, fitted */\n",
              "#sk-container-id-2 div.sk-label.fitted:hover label.sk-toggleable__label.fitted {\n",
              "  color: var(--sklearn-color-text);\n",
              "  background-color: var(--sklearn-color-fitted-level-2);\n",
              "}\n",
              "\n",
              "/* Estimator label */\n",
              "\n",
              "#sk-container-id-2 div.sk-label label {\n",
              "  font-family: monospace;\n",
              "  font-weight: bold;\n",
              "  display: inline-block;\n",
              "  line-height: 1.2em;\n",
              "}\n",
              "\n",
              "#sk-container-id-2 div.sk-label-container {\n",
              "  text-align: center;\n",
              "}\n",
              "\n",
              "/* Estimator-specific */\n",
              "#sk-container-id-2 div.sk-estimator {\n",
              "  font-family: monospace;\n",
              "  border: 1px dotted var(--sklearn-color-border-box);\n",
              "  border-radius: 0.25em;\n",
              "  box-sizing: border-box;\n",
              "  margin-bottom: 0.5em;\n",
              "  /* unfitted */\n",
              "  background-color: var(--sklearn-color-unfitted-level-0);\n",
              "}\n",
              "\n",
              "#sk-container-id-2 div.sk-estimator.fitted {\n",
              "  /* fitted */\n",
              "  background-color: var(--sklearn-color-fitted-level-0);\n",
              "}\n",
              "\n",
              "/* on hover */\n",
              "#sk-container-id-2 div.sk-estimator:hover {\n",
              "  /* unfitted */\n",
              "  background-color: var(--sklearn-color-unfitted-level-2);\n",
              "}\n",
              "\n",
              "#sk-container-id-2 div.sk-estimator.fitted:hover {\n",
              "  /* fitted */\n",
              "  background-color: var(--sklearn-color-fitted-level-2);\n",
              "}\n",
              "\n",
              "/* Specification for estimator info (e.g. \"i\" and \"?\") */\n",
              "\n",
              "/* Common style for \"i\" and \"?\" */\n",
              "\n",
              ".sk-estimator-doc-link,\n",
              "a:link.sk-estimator-doc-link,\n",
              "a:visited.sk-estimator-doc-link {\n",
              "  float: right;\n",
              "  font-size: smaller;\n",
              "  line-height: 1em;\n",
              "  font-family: monospace;\n",
              "  background-color: var(--sklearn-color-background);\n",
              "  border-radius: 1em;\n",
              "  height: 1em;\n",
              "  width: 1em;\n",
              "  text-decoration: none !important;\n",
              "  margin-left: 1ex;\n",
              "  /* unfitted */\n",
              "  border: var(--sklearn-color-unfitted-level-1) 1pt solid;\n",
              "  color: var(--sklearn-color-unfitted-level-1);\n",
              "}\n",
              "\n",
              ".sk-estimator-doc-link.fitted,\n",
              "a:link.sk-estimator-doc-link.fitted,\n",
              "a:visited.sk-estimator-doc-link.fitted {\n",
              "  /* fitted */\n",
              "  border: var(--sklearn-color-fitted-level-1) 1pt solid;\n",
              "  color: var(--sklearn-color-fitted-level-1);\n",
              "}\n",
              "\n",
              "/* On hover */\n",
              "div.sk-estimator:hover .sk-estimator-doc-link:hover,\n",
              ".sk-estimator-doc-link:hover,\n",
              "div.sk-label-container:hover .sk-estimator-doc-link:hover,\n",
              ".sk-estimator-doc-link:hover {\n",
              "  /* unfitted */\n",
              "  background-color: var(--sklearn-color-unfitted-level-3);\n",
              "  color: var(--sklearn-color-background);\n",
              "  text-decoration: none;\n",
              "}\n",
              "\n",
              "div.sk-estimator.fitted:hover .sk-estimator-doc-link.fitted:hover,\n",
              ".sk-estimator-doc-link.fitted:hover,\n",
              "div.sk-label-container:hover .sk-estimator-doc-link.fitted:hover,\n",
              ".sk-estimator-doc-link.fitted:hover {\n",
              "  /* fitted */\n",
              "  background-color: var(--sklearn-color-fitted-level-3);\n",
              "  color: var(--sklearn-color-background);\n",
              "  text-decoration: none;\n",
              "}\n",
              "\n",
              "/* Span, style for the box shown on hovering the info icon */\n",
              ".sk-estimator-doc-link span {\n",
              "  display: none;\n",
              "  z-index: 9999;\n",
              "  position: relative;\n",
              "  font-weight: normal;\n",
              "  right: .2ex;\n",
              "  padding: .5ex;\n",
              "  margin: .5ex;\n",
              "  width: min-content;\n",
              "  min-width: 20ex;\n",
              "  max-width: 50ex;\n",
              "  color: var(--sklearn-color-text);\n",
              "  box-shadow: 2pt 2pt 4pt #999;\n",
              "  /* unfitted */\n",
              "  background: var(--sklearn-color-unfitted-level-0);\n",
              "  border: .5pt solid var(--sklearn-color-unfitted-level-3);\n",
              "}\n",
              "\n",
              ".sk-estimator-doc-link.fitted span {\n",
              "  /* fitted */\n",
              "  background: var(--sklearn-color-fitted-level-0);\n",
              "  border: var(--sklearn-color-fitted-level-3);\n",
              "}\n",
              "\n",
              ".sk-estimator-doc-link:hover span {\n",
              "  display: block;\n",
              "}\n",
              "\n",
              "/* \"?\"-specific style due to the `<a>` HTML tag */\n",
              "\n",
              "#sk-container-id-2 a.estimator_doc_link {\n",
              "  float: right;\n",
              "  font-size: 1rem;\n",
              "  line-height: 1em;\n",
              "  font-family: monospace;\n",
              "  background-color: var(--sklearn-color-background);\n",
              "  border-radius: 1rem;\n",
              "  height: 1rem;\n",
              "  width: 1rem;\n",
              "  text-decoration: none;\n",
              "  /* unfitted */\n",
              "  color: var(--sklearn-color-unfitted-level-1);\n",
              "  border: var(--sklearn-color-unfitted-level-1) 1pt solid;\n",
              "}\n",
              "\n",
              "#sk-container-id-2 a.estimator_doc_link.fitted {\n",
              "  /* fitted */\n",
              "  border: var(--sklearn-color-fitted-level-1) 1pt solid;\n",
              "  color: var(--sklearn-color-fitted-level-1);\n",
              "}\n",
              "\n",
              "/* On hover */\n",
              "#sk-container-id-2 a.estimator_doc_link:hover {\n",
              "  /* unfitted */\n",
              "  background-color: var(--sklearn-color-unfitted-level-3);\n",
              "  color: var(--sklearn-color-background);\n",
              "  text-decoration: none;\n",
              "}\n",
              "\n",
              "#sk-container-id-2 a.estimator_doc_link.fitted:hover {\n",
              "  /* fitted */\n",
              "  background-color: var(--sklearn-color-fitted-level-3);\n",
              "}\n",
              "</style><div id=\"sk-container-id-2\" class=\"sk-top-container\"><div class=\"sk-text-repr-fallback\"><pre>DecisionTreeClassifier(max_depth=5, min_samples_split=80, random_state=17)</pre><b>In a Jupyter environment, please rerun this cell to show the HTML representation or trust the notebook. <br />On GitHub, the HTML representation is unable to render, please try loading this page with nbviewer.org.</b></div><div class=\"sk-container\" hidden><div class=\"sk-item\"><div class=\"sk-estimator fitted sk-toggleable\"><input class=\"sk-toggleable__control sk-hidden--visually\" id=\"sk-estimator-id-2\" type=\"checkbox\" checked><label for=\"sk-estimator-id-2\" class=\"sk-toggleable__label fitted sk-toggleable__label-arrow fitted\">&nbsp;&nbsp;DecisionTreeClassifier<a class=\"sk-estimator-doc-link fitted\" rel=\"noreferrer\" target=\"_blank\" href=\"https://scikit-learn.org/1.5/modules/generated/sklearn.tree.DecisionTreeClassifier.html\">?<span>Documentation for DecisionTreeClassifier</span></a><span class=\"sk-estimator-doc-link fitted\">i<span>Fitted</span></span></label><div class=\"sk-toggleable__content fitted\"><pre>DecisionTreeClassifier(max_depth=5, min_samples_split=80, random_state=17)</pre></div> </div></div></div></div>"
            ],
            "text/plain": [
              "DecisionTreeClassifier(max_depth=5, min_samples_split=80, random_state=17)"
            ]
          },
          "execution_count": 46,
          "metadata": {},
          "output_type": "execute_result"
        }
      ],
      "source": [
        "model_base = DecisionTreeClassifier(random_state=semillas[0])\n",
        "model_ale = DecisionTreeClassifier(#criterion='gini',\n",
        "                               random_state=semillas[0],\n",
        "                               min_samples_split=80,\n",
        "                               max_depth=5)\n",
        "\n",
        "model_base.fit(X,y)\n",
        "model_ale.fit(X,y)\n"
      ]
    },
    {
      "cell_type": "code",
      "execution_count": 72,
      "metadata": {},
      "outputs": [
        {
          "name": "stdout",
          "output_type": "stream",
          "text": [
            "Ganancia de modelo Base: 276542000.0\n",
            "Ganancia de modelo Ale:  89880000.0\n"
          ]
        }
      ],
      "source": [
        "print(f\"Ganancia de modelo Base: {ganancia(model_base, X, y)}\")\n",
        "print(f\"Ganancia de modelo Ale:  {ganancia(model_ale, X, y)}\")"
      ]
    },
    {
      "cell_type": "markdown",
      "metadata": {
        "id": "nxS0uXMz3PuY"
      },
      "source": [
        "* ¿Cómo se pueden solucionar?\n",
        "\n",
        "Dado que lo que hicimos no pinta nada bien, pasemos a una de las herramientas que separa la ciencia de datos de la estadística tradicional\n",
        "\n",
        "* ¿Por qué separamos en train/test?\n",
        "* ¿Cómo funciona la estadística tradicional?\n",
        "* Son números aleatorios los que nos dan las computadoras\n",
        "* ¿Por qué usamos semillas?\n",
        "* ¿Qué es una partición estratificada?\n",
        "* ¿Es realmente en nuestro caso una partición estratificada?\n",
        "\n"
      ]
    },
    {
      "cell_type": "markdown",
      "metadata": {
        "id": "viSb47YW6jIK"
      },
      "source": [
        "Veamos alguna de las formas de separar los conjuntos de datos para medir su calidad:\n",
        "\n",
        "* **Train-Test Split**: Divide el conjunto de datos en dos partes: un conjunto de entrenamiento y otro de prueba. El conjunto de entrenamiento se utiliza para ajustar el modelo, y el conjunto de prueba para evaluar su rendimiento.\n",
        "\n",
        "* **K-Fold Cross Validation**: Divide los datos en k subconjuntos o folds. El modelo se entrena k veces, cada vez utilizando k-1 subconjuntos como entrenamiento y el subconjunto restante como prueba. Esto se repite hasta que cada subconjunto se haya utilizado como conjunto de prueba una vez.\n",
        "\n",
        "* **Shuffle Split** (aka Montecarlo Cross Validation): Genera múltiples particiones aleatorias de los datos en conjuntos de entrenamiento y prueba. A diferencia de K-Fold, no garantiza que todos los puntos de datos sean utilizados en alguna iteración.\n",
        "\n",
        "En la cátedra preferimos usar está última, pero el alumno es libre de usar la que considera conveniente.\n",
        "\n",
        "Armemos ahora nuevamente los modelos anteriores, pero utilizando estas particiones:"
      ]
    },
    {
      "cell_type": "code",
      "execution_count": 73,
      "metadata": {
        "id": "3ZGS36pPLM-O"
      },
      "outputs": [],
      "source": [
        "sss = StratifiedShuffleSplit(n_splits=20,\n",
        "                             test_size=0.3,\n",
        "                             random_state=semillas[0])\n",
        "\n",
        "# Función que paraleliza la construcción de árboles de decisión\n",
        "def train_and_evaluate(train_index, test_index, params, X, y):\n",
        "  m = DecisionTreeClassifier()\n",
        "  m.fit(X.iloc[train_index],y.iloc[train_index])\n",
        "  # Note que con el parámetro prop se corrige la distorsión por sampleo de la\n",
        "  # ganancia\n",
        "  ganancia_value = ganancia(m, X.iloc[test_index], y.iloc[test_index], prop=0.3)\n",
        "  return m, ganancia_value\n",
        "\n",
        "modelo_base_param = {\"random_state\":semillas[0]}\n",
        "\n",
        "modelo_ale_param = {\"criterion\": 'gini',\n",
        "                     \"random_state\":semillas[0],\n",
        "                     \"min_samples_split\":80,\n",
        "                     \"max_depth\":5,\n",
        "}\n",
        "\n",
        "results_base = Parallel(n_jobs=-1)(\n",
        "    delayed(train_and_evaluate)(train_index, test_index, modelo_base_param, X, y)\n",
        "    for train_index, test_index in sss.split(X, y)\n",
        ")\n",
        "\n",
        "results_ale = Parallel(n_jobs=-1)(\n",
        "    delayed(train_and_evaluate)(train_index, test_index, modelo_ale_param, X, y)\n",
        "    for train_index, test_index in sss.split(X, y)\n",
        ")\n"
      ]
    },
    {
      "cell_type": "markdown",
      "metadata": {
        "id": "ICS3PBYI71h_"
      },
      "source": [
        "Estamos haciendo por cada juego de parámetros 20 modelos. Esto no suele ser lo habitual. Con 5 se puede conseguir buenos resultados.\n",
        "\n",
        "Vamos a ver que tan bien le fue a los modelos en los conjuntos de prueba:"
      ]
    },
    {
      "cell_type": "code",
      "execution_count": 74,
      "metadata": {
        "id": "PxNSRwQT8-ZR"
      },
      "outputs": [
        {
          "data": {
            "image/png": "[encoded data removed]",
            "text/plain": [
              "<Figure size 600x600 with 2 Axes>"
            ]
          },
          "metadata": {},
          "output_type": "display_data"
        }
      ],
      "source": [
        "ganancias_modelos_base = [result[1] for result in results_base]\n",
        "ganancias_modelos_ale = [result[1] for result in results_ale]\n",
        "\n",
        "df_pred = pd.DataFrame({'Ganancia': [result[1] for result in results_base], 'Modelo': 'Base'})\n",
        "df_pred2 = pd.DataFrame({'Ganancia': [result[1] for result in results_ale], 'Modelo': 'Ale'})\n",
        "df_combined = pd.concat([df_pred, df_pred2])\n",
        "\n",
        "g = sns.FacetGrid(df_combined, row=\"Modelo\", aspect=2)\n",
        "g.map(sns.histplot, \"Ganancia\", kde=True)\n",
        "plt.show()"
      ]
    },
    {
      "cell_type": "markdown",
      "metadata": {
        "id": "dI6se0-A-xsL"
      },
      "source": [
        "* ¿Qué tan distintos son de los primero valores calculados con el modelo completo?\n",
        "* ¿Con cuál se queda?\n",
        "* ¿Por qué se produce semejante dispersión?\n",
        "* ¿Cuál considera que es el \"valor real\"?\n",
        "\n",
        "Podemos mirar la media"
      ]
    },
    {
      "cell_type": "code",
      "execution_count": 78,
      "metadata": {
        "id": "weA6qiqe-FwA"
      },
      "outputs": [
        {
          "name": "stdout",
          "output_type": "stream",
          "text": [
            "Ganancia media del modelo base: 13129666.666666666\n",
            "Ganancia media del modelo ale: 13997666.666666668\n"
          ]
        }
      ],
      "source": [
        "mean_base = df_combined[df_combined['Modelo'] == 'Base']['Ganancia'].mean()\n",
        "mean_ale = df_combined[df_combined['Modelo'] == 'Ale']['Ganancia'].mean()\n",
        "\n",
        "print(f\"Ganancia media del modelo base: {mean_base}\")\n",
        "print(f\"Ganancia media del modelo ale: {mean_ale}\")"
      ]
    },
    {
      "cell_type": "code",
      "execution_count": 12,
      "metadata": {},
      "outputs": [
        {
          "data": {
            "text/plain": [
              "1.017677248631561"
            ]
          },
          "execution_count": 12,
          "metadata": {},
          "output_type": "execute_result"
        }
      ],
      "source": [
        "12492666/12275666"
      ]
    },
    {
      "cell_type": "markdown",
      "metadata": {
        "id": "QJatBPAU-67W"
      },
      "source": [
        "* Si no le gusta la media, como más puede elegir un modelo.\n",
        "\n",
        "> **La vida no es simple**  -- Alumno promedio de la maestría.\n",
        "\n",
        "Muy interesante, pero lo importante es que sucedería en el **futuro**. Por este motivo nos guardamos el mes de **Abril**."
      ]
    },
    {
      "cell_type": "code",
      "execution_count": 79,
      "metadata": {
        "id": "CjooaKLHXkko"
      },
      "outputs": [],
      "source": [
        "X_futuro = data[data['foto_mes'] == mes_test]\n",
        "y_futuro = X_futuro['clase_ternaria']\n",
        "X_futuro = X_futuro.drop(columns=['clase_ternaria'])"
      ]
    },
    {
      "cell_type": "code",
      "execution_count": null,
      "metadata": {},
      "outputs": [],
      "source": []
    },
    {
      "cell_type": "markdown",
      "metadata": {
        "id": "BsUTeSfM_goB"
      },
      "source": [
        "Sobre el mes de abril, debemos usar el modelo que se entreno sobre todos los datos"
      ]
    },
    {
      "cell_type": "code",
      "execution_count": 80,
      "metadata": {
        "id": "h4FixjUZ7owV"
      },
      "outputs": [
        {
          "name": "stdout",
          "output_type": "stream",
          "text": [
            "Ganancia de modelo Base en Junio: 14686000.0\n",
            "Ganancia de modelo Ale en Junio: 125167000.0\n"
          ]
        }
      ],
      "source": [
        "ganancia_junio_base = ganancia(model_base, X_futuro, y_futuro)\n",
        "ganancia_junio_ale = ganancia(model_ale, X_futuro, y_futuro)\n",
        "\n",
        "print(f\"Ganancia de modelo Base en Junio: {ganancia_junio_base}\")\n",
        "print(f\"Ganancia de modelo Ale en Junio: {ganancia_junio_ale}\")\n"
      ]
    },
    {
      "cell_type": "markdown",
      "metadata": {
        "id": "UQM8zroBBTjG"
      },
      "source": [
        "* ¿Cuál es mejor?\n",
        "* ¿Por qué cree que el mejor es el mejor?\n",
        "* ¿Hubiera elegido sabiamente únicamente con los datos de **Febrero**?\n",
        "\n",
        "El mundo es un lugar **cruel** para los data scientists. El escenario anterior tampoco es el presente para los alumnos. Ya que **kaggle** divide el dataset en una parte **pública** y otra **privada**. Simulemos los efectos que produce en la decisión del mejor modelo en los leaderboards, simulando varios a la vez.\n"
      ]
    },
    {
      "cell_type": "code",
      "execution_count": 16,
      "metadata": {
        "id": "QoUgUIam8ASR"
      },
      "outputs": [],
      "source": [
        "# podemos tomar más muestras, dado que solo vamos a scorear y eso es más rápido\n",
        "sss_futuro = StratifiedShuffleSplit(n_splits=50,\n",
        "                             test_size=0.3,\n",
        "                             random_state=semillas[0])\n",
        "\n",
        "ganancias_futuro_privada_ale = []\n",
        "ganancias_futuro_privada_base = []\n",
        "ganancias_futuro_publica_ale = []\n",
        "ganancias_futuro_publica_base = []\n",
        "\n",
        "for train_index, test_index in sss_futuro.split(X_futuro, y_futuro):\n",
        "  ganancias_futuro_privada_ale.append(ganancia(model_ale, X_futuro.iloc[train_index], y_futuro.iloc[train_index], prop=0.7))\n",
        "  ganancias_futuro_privada_base.append(ganancia(model_base, X_futuro.iloc[train_index], y_futuro.iloc[train_index], prop=0.7))\n",
        "  ganancias_futuro_publica_ale.append(ganancia(model_ale, X_futuro.iloc[test_index], y_futuro.iloc[test_index], prop=0.3))\n",
        "  ganancias_futuro_publica_base.append(ganancia(model_base, X_futuro.iloc[test_index], y_futuro.iloc[test_index], prop=0.3))\n"
      ]
    },
    {
      "cell_type": "code",
      "execution_count": 17,
      "metadata": {
        "id": "4UTGsLzKE5vQ"
      },
      "outputs": [
        {
          "data": {
            "image/png": "[encoded data removed]",
            "text/plain": [
              "<Figure size 1200x600 with 4 Axes>"
            ]
          },
          "metadata": {},
          "output_type": "display_data"
        }
      ],
      "source": [
        "df_pred_1_ale = pd.DataFrame({'Ganancia': ganancias_futuro_privada_ale, 'Modelo': 'ale', 'Grupo': 'Privado'})\n",
        "df_pred_2_ale = pd.DataFrame({'Ganancia': ganancias_futuro_publica_ale, 'Modelo': 'ale', 'Grupo': 'Publico'})\n",
        "df_pred_1_base = pd.DataFrame({'Ganancia': ganancias_futuro_privada_base, 'Modelo': 'Base', 'Grupo': 'Privado'})\n",
        "df_pred_2_base = pd.DataFrame({'Ganancia': ganancias_futuro_publica_base, 'Modelo': 'Base', 'Grupo': 'Publico'})\n",
        "\n",
        "df_combined = pd.concat([df_pred_1_base, df_pred_2_base, df_pred_1_ale, df_pred_2_ale ])\n",
        "\n",
        "g = sns.FacetGrid(df_combined, col=\"Grupo\", row=\"Modelo\", aspect=2)\n",
        "g.map(sns.histplot, \"Ganancia\", kde=True)\n",
        "plt.show()\n"
      ]
    },
    {
      "cell_type": "code",
      "execution_count": null,
      "metadata": {
        "id": "0p7Po1I7FlL6"
      },
      "outputs": [],
      "source": [
        "mean_base_privado = df_combined[(df_combined['Modelo'] == 'Base') & (df_combined['Grupo'] == 'Privado')]['Ganancia'].mean()\n",
        "mean_base_publico = df_combined[(df_combined['Modelo'] == 'Base') & (df_combined['Grupo'] == 'Publico')]['Ganancia'].mean()\n",
        "mean_ale_privado = df_combined[(df_combined['Modelo'] == 'ale') & (df_combined['Grupo'] == 'Privado')]['Ganancia'].mean()\n",
        "mean_ale_publico = df_combined[(df_combined['Modelo'] == 'ale') & (df_combined['Grupo'] == 'Publico')]['Ganancia'].mean()\n",
        "\n",
        "print(f\"Ganancia media del modelo base en privado: {mean_base_privado}\")\n",
        "print(f\"Ganancia media del modelo base en publico: {mean_base_publico}\")\n",
        "print(f\"Ganancia media del modelo ale en privado: {mean_ale_privado}\")\n",
        "print(f\"Ganancia media del modelo ale en publico: {mean_ale_publico}\")\n"
      ]
    },
    {
      "cell_type": "markdown",
      "metadata": {
        "id": "gw0NeIfOG77K"
      },
      "source": [
        "* ¿Que significa todo esto?\n",
        "\n",
        "Bueno, dos cosas.\n",
        "\n",
        "* El modelo ale, es un caso de **vagancia**. Cambiar 2 parámetros y esperar un cambio radical no es lo más inteligente que se puede hacer. Realmente hay que hacer un esfuerzo para separar las distribuciones.\n",
        "* Aún así elegir un modelo no es una tarea simple que se pueda hacer con una **certeza** absoluta.\n",
        "\n",
        "Para mejorar los modelos, una paso adecuado es la búsqueda de hiperparámetros. Podemos contar con las siguientes técnicas de búsqueda de parámetros:\n",
        "\n",
        "* **Grid Search**: Explora exhaustivamente todas las combinaciones posibles de hiperparámetros dentro de un conjunto predefinido de valores. Aunque es exhaustivo.\n",
        "\n",
        "* **Random Search**: En lugar de probar todas las combinaciones posibles, selecciona un número aleatorio de combinaciones de hiperparámetros dentro de un rango predefinido.\n",
        "\n",
        "* **Bayesian Optimization**: Este método construye un modelo probabilístico del rendimiento de los hiperparámetros y utiliza ese modelo para seleccionar los valores de hiperparámetros más prometedores.\n",
        "\n",
        "* **Tree-structured Parzen Estimator (TPE)**: Una variante de la optimización bayesiana que utiliza estimadores de densidad basados en árboles (Parzen estimators) para modelar la probabilidad de los hiperparámetros óptimos. Es eficiente en la exploración de espacios de hiperparámetros complejos y se adapta bien a configuraciones con interdependencias entre los parámetros.\n",
        "\n",
        "* **Genetic Algorithms**: Emplea principios de la evolución natural, como selección, cruce y mutación, para encontrar combinaciones óptimas de hiperparámetros. Es útil en espacios de búsqueda complejos, aunque puede ser computacionalmente costoso.\n",
        "\n",
        "Repasemos en clase de que se trata cada uno. (tome notas)\n",
        "\n",
        "Todos nos buenas opciones para la búsqueda de ... nah mentira, **grid search** apesta, si no me cree calcule el tiempo necesario para barrer el dominio de búsqueda.\n",
        "\n",
        "Para la búsquedas de parámetros usaremos **Optuna**. **Optuna** es una librería poderosa y flexible, diseñada para realizar búsquedas eficientes y automatizadas.\n",
        "\n",
        "* Utiliza casi todos los álgoritmos mencionados y más.\n",
        "\n",
        "* Permite definir espacios de búsqueda complejos, incluyendo hiperparámetros categóricos, continuos, discretos y con dependencias condicionales.\n",
        "\n",
        "* Ofrece un mecanismo de pruning o poda, que permite detener evaluaciones de configuraciones de hiperparámetros que no muestran promesas tempranas.\n",
        "\n",
        "* Facilidad de Uso y Configuración.\n",
        "\n",
        "* Proporciona herramientas de visualización integradas para analizar el progreso de la optimización, visualizar la importancia de los hiperparámetros y explorar las configuraciones probadas.\n",
        "\n",
        "Buscaremos un mejor modelo de manera inteligente:"
      ]
    },
    {
      "cell_type": "code",
      "execution_count": null,
      "metadata": {
        "id": "85WbW6qroyfn"
      },
      "outputs": [],
      "source": [
        "\n",
        "sss_opt = ShuffleSplit(n_splits=5, test_size=0.3, random_state=semillas[1])\n",
        "\n",
        "def objective(trial, X, y, sss):\n",
        "  criterion = trial.suggest_categorical('criterion', ['gini', 'entropy'])\n",
        "  max_depth = trial.suggest_int('max_depth', 2, 20)\n",
        "  min_samples_split = trial.suggest_int('min_samples_split', 2, 200)\n",
        "  min_samples_leaf = trial.suggest_int('min_samples_leaf', 1, 20)\n",
        "  max_leaf_nodes = trial.suggest_int('max_leaf_nodes', 2, 20)\n",
        "\n",
        "  def train_and_evaluate(train_index, test_index, X, y):\n",
        "    m = DecisionTreeClassifier(\n",
        "        criterion=criterion,\n",
        "        max_depth=max_depth,\n",
        "        min_samples_split=min_samples_split,\n",
        "        min_samples_leaf=min_samples_leaf,\n",
        "        max_leaf_nodes=max_leaf_nodes,\n",
        "        random_state=semillas[0],\n",
        "    )\n",
        "    m.fit(X.iloc[train_index],y.iloc[train_index])\n",
        "    ganancia_value = ganancia(m, X.iloc[test_index], y.iloc[test_index], prop=0.3)\n",
        "    return ganancia_value\n",
        "\n",
        "  results = Parallel(n_jobs=-1)(\n",
        "      delayed(train_and_evaluate)(train_index, test_index, X, y)\n",
        "      for train_index, test_index in sss.split(X)\n",
        "  )\n",
        "\n",
        "  return np.mean(results)\n",
        "\n",
        "storage_name = \"sqlite:////content/drive/MyDrive/DMEyF/2024/optimization_tree.db\"\n",
        "study_name = \"exp_101_decision-tree-opt\"\n",
        "\n",
        "study = optuna.create_study(\n",
        "    direction=\"maximize\",\n",
        "    study_name=study_name,\n",
        "    storage=storage_name,\n",
        "    load_if_exists=True,\n",
        ")"
      ]
    },
    {
      "cell_type": "markdown",
      "metadata": {
        "id": "1pLQD79dbP9P"
      },
      "source": [
        "Entre la muchas ventajas que tiene **Optuna** es que va almacenando las exploraciones en una base de datos, lo que nos permite continuar la búsqueda si esta se interrumpe."
      ]
    },
    {
      "cell_type": "code",
      "execution_count": null,
      "metadata": {
        "id": "Ba56plD9bLup"
      },
      "outputs": [],
      "source": [
        "# No quiero que se ejecute automaticamente\n",
        "# study.optimize(lambda trial: objective(trial, X, y, sss_opt), n_trials=100)"
      ]
    },
    {
      "cell_type": "markdown",
      "metadata": {
        "id": "KM8WsVYMcE6M"
      },
      "source": [
        "A continuación veremos como fue el proceso de búsqueda a través de las visualizaciones que cuenta la herramienta (los gráficos son bastante autoexplicativos)"
      ]
    },
    {
      "cell_type": "code",
      "execution_count": null,
      "metadata": {
        "id": "wJ9-4XqG64AD"
      },
      "outputs": [],
      "source": [
        "optuna.visualization.plot_optimization_history(study)"
      ]
    },
    {
      "cell_type": "code",
      "execution_count": null,
      "metadata": {
        "id": "C4o1mz-b53_Q"
      },
      "outputs": [],
      "source": [
        "plot_param_importances(study)"
      ]
    },
    {
      "cell_type": "code",
      "execution_count": null,
      "metadata": {
        "id": "XhcFEzRB62J2"
      },
      "outputs": [],
      "source": [
        "plot_slice(study)"
      ]
    },
    {
      "cell_type": "code",
      "execution_count": null,
      "metadata": {
        "id": "ZXGkSPR46pzy"
      },
      "outputs": [],
      "source": [
        "plot_contour(study)"
      ]
    },
    {
      "cell_type": "code",
      "execution_count": null,
      "metadata": {
        "id": "KIu_VjPn-LrW"
      },
      "outputs": [],
      "source": [
        "plot_contour(study, params=[\"max_depth\", \"max_leaf_nodes\"])"
      ]
    },
    {
      "cell_type": "markdown",
      "metadata": {
        "id": "tYy1gCarctOm"
      },
      "source": [
        "Pasemos a analizar como le fue al mejor modelo en **Abril**"
      ]
    },
    {
      "cell_type": "code",
      "execution_count": null,
      "metadata": {
        "id": "qX8GEf5M7aH1"
      },
      "outputs": [],
      "source": [
        "# Obtener el mejor modelo\n",
        "best_trial = study.best_trial\n",
        "best_model_params = best_trial.params\n",
        "print(\"Mejor modelo:\", best_model_params)\n",
        "\n",
        "model_best = DecisionTreeClassifier(**best_model_params, random_state=semillas[0])\n",
        "model_best.fit(X, y)\n",
        "\n",
        "print(f\"Ganancia del mejor modelo: {ganancia(model_best, X_futuro, y_futuro)}\")"
      ]
    },
    {
      "cell_type": "markdown",
      "metadata": {
        "id": "9yK8LBJVeD8R"
      },
      "source": [
        "Es mejor que los anteriores! y solo por una hora de procesamiento!!!\n",
        "\n",
        "¿qué más podemos pedir por tan poco?\n",
        "\n",
        "Veamos comparados con los anteriores que tanto mejor es...\n"
      ]
    },
    {
      "cell_type": "code",
      "execution_count": null,
      "metadata": {
        "id": "kRWjXvFWTTdL"
      },
      "outputs": [],
      "source": [
        "ganancias_futuro_top0_publica = []\n",
        "ganancias_futuro_top0_privado = []\n",
        "for train_index, test_index in sss_futuro.split(X_futuro, y_futuro):\n",
        "  ganancias_futuro_top0_publica.append(ganancia(model_best, X_futuro.iloc[test_index], y_futuro.iloc[test_index], prop=0.3))\n",
        "  ganancias_futuro_top0_privado.append(ganancia(model_best, X_futuro.iloc[train_index], y_futuro.iloc[train_index], prop=0.7))\n",
        "\n",
        "df_pred_top0_privado = pd.DataFrame({'Ganancia': ganancias_futuro_top0_privado, 'Modelo': 'top0', 'Grupo': 'Privado'})\n",
        "df_pred_top0_publica = pd.DataFrame({'Ganancia': ganancias_futuro_top0_publica, 'Modelo': 'top0', 'Grupo': 'Publico'})\n",
        "\n",
        "df_combined = pd.concat([df_pred_1_base,\n",
        "                         df_pred_2_base,\n",
        "                         df_pred_1_ale,\n",
        "                         df_pred_2_ale,\n",
        "                         df_pred_top0_privado,\n",
        "                         df_pred_top0_publica])\n",
        "\n",
        "g = sns.FacetGrid(df_combined, col=\"Grupo\", row=\"Modelo\", aspect=2)\n",
        "g.map(sns.histplot, \"Ganancia\", kde=True)\n",
        "plt.show()"
      ]
    },
    {
      "cell_type": "markdown",
      "metadata": {
        "id": "djfNrxaXeaMa"
      },
      "source": [
        "Bueno, no parece mucho mejor. Es tan solo mejor. Vamos moviendo de a poco la vara.\n",
        "\n",
        "* ¿Qué se puede hacer para mejorarlo? Debate con la clase abierta\n",
        "\n",
        "Una última cosa, solo de pura maldad..."
      ]
    },
    {
      "cell_type": "code",
      "execution_count": null,
      "metadata": {
        "id": "jZ7r-UOgSw58"
      },
      "outputs": [],
      "source": [
        "n_top_models = 3\n",
        "top_trials = study.best_trials[0:n_top_models]\n",
        "\n",
        "top_models = []\n",
        "for i, trial in enumerate(top_trials):\n",
        "     model_params = trial.params\n",
        "     print(f\"Top {i}: {model_params}\")\n",
        "     model = DecisionTreeClassifier(**model_params, random_state=semillas[0])\n",
        "     model.fit(X, y)\n",
        "     top_models.append(model)\n",
        "\n",
        "ganancias_abril = []\n",
        "for model in top_models:\n",
        "  ganancias_abril.append(ganancia(model, X_futuro, y_futuro))\n",
        "\n",
        "for i, ganancia_abril in enumerate(ganancias_abril):\n",
        "  print(f\"Ganancia de top {i} en abril: {ganancia_abril}\")\n"
      ]
    },
    {
      "cell_type": "markdown",
      "metadata": {
        "id": "Gk_3Fuly0vmI"
      },
      "source": [
        "## Tarea:\n",
        "\n",
        "* Envíos a Kaggle:\n",
        " * Defina los mejores parámetros para realizar una búsqueda.\n",
        " * Explore la configuración de Optima para una mejor búsqueda.\n",
        " * Arme un script que tome la salida de un modelo y genere un archivo para Kaggle.\n",
        " * Entrena el modelo usando datos de febrero y mirando su rendimiento en abril.  \n",
        "   * Prueba el modelo completo entrenado en febrero, score en Junio y suba a  Kaggle.\n",
        "   * El modelo seleccionado se reentrena con los datos de abril y se scorea en junio para kaggle\n",
        "* Busca el mejor modelo en abril y scoree en junio para Kaggle.\n",
        "\n",
        "¿Cuál fue su mejor predicción?\n",
        "\n",
        "Colaboración:\n",
        "* Recuerde compartir con tus compañeros los nuevos scripts que hayas generado y las configuraciones que hayas probado por el canal de"
      ]
    },
    {
      "cell_type": "code",
      "execution_count": null,
      "metadata": {},
      "outputs": [],
      "source": []
    }
  ],
  "metadata": {
    "colab": {
      "provenance": []
    },
    "kernelspec": {
      "display_name": "Python 3",
      "name": "python3"
    },
    "language_info": {
      "codemirror_mode": {
        "name": "ipython",
        "version": 3
      },
      "file_extension": ".py",
      "mimetype": "text/x-python",
      "name": "python",
      "nbconvert_exporter": "python",
      "pygments_lexer": "ipython3",
      "version": "3.12.1"
    }
  },
  "nbformat": 4,
  "nbformat_minor": 0
}
